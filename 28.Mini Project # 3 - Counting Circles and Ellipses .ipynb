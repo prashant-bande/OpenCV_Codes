{
 "cells": [
  {
   "cell_type": "markdown",
   "metadata": {},
   "source": [
    "## Mini Project # 3 - Counting Circles and Ellipses "
   ]
  },
  {
   "cell_type": "code",
   "execution_count": 1,
   "metadata": {},
   "outputs": [
    {
     "ename": "TypeError",
     "evalue": "an integer is required (got type tuple)",
     "output_type": "error",
     "traceback": [
      "\u001b[0;31m---------------------------------------------------------------------------\u001b[0m",
      "\u001b[0;31mTypeError\u001b[0m                                 Traceback (most recent call last)",
      "\u001b[0;32m<ipython-input-1-232232dae8cc>\u001b[0m in \u001b[0;36m<module>\u001b[0;34m\u001b[0m\n\u001b[1;32m     16\u001b[0m \u001b[0mblank\u001b[0m \u001b[0;34m=\u001b[0m \u001b[0mnp\u001b[0m\u001b[0;34m.\u001b[0m\u001b[0mzeros\u001b[0m\u001b[0;34m(\u001b[0m\u001b[0;34m(\u001b[0m\u001b[0;36m1\u001b[0m\u001b[0;34m,\u001b[0m\u001b[0;36m1\u001b[0m\u001b[0;34m)\u001b[0m\u001b[0;34m)\u001b[0m\u001b[0;34m\u001b[0m\u001b[0;34m\u001b[0m\u001b[0m\n\u001b[1;32m     17\u001b[0m blobs = cv2.drawMarker(image, keypoints, blank, (0,0,255),\n\u001b[0;32m---> 18\u001b[0;31m                                       cv2.DRAW_MATCHES_FLAGS_DRAW_RICH_KEYPOINTS)\n\u001b[0m\u001b[1;32m     19\u001b[0m \u001b[0;34m\u001b[0m\u001b[0m\n\u001b[1;32m     20\u001b[0m \u001b[0mnumber_of_blobs\u001b[0m \u001b[0;34m=\u001b[0m \u001b[0mlen\u001b[0m\u001b[0;34m(\u001b[0m\u001b[0mkeypoints\u001b[0m\u001b[0;34m)\u001b[0m\u001b[0;34m\u001b[0m\u001b[0;34m\u001b[0m\u001b[0m\n",
      "\u001b[0;31mTypeError\u001b[0m: an integer is required (got type tuple)"
     ]
    }
   ],
   "source": [
    "import cv2\n",
    "import numpy as np\n",
    "\n",
    "# Load image\n",
    "image = cv2.imread(\"images/blobs.jpg\", 0)\n",
    "cv2.imshow('Original Image',image)\n",
    "cv2.waitKey(0)\n",
    "\n",
    "# Intialize the detector using the default parameters\n",
    "detector = cv2.SimpleBlobDetector_create()\n",
    " \n",
    "# Detect blobs\n",
    "keypoints = detector.detect(image)\n",
    " \n",
    "# Draw blobs on our image as red circles\n",
    "blank = np.zeros((1,1)) \n",
    "blobs = cv2.drawKeypoints(image, keypoints, blank, (0,0,255),\n",
    "                                      cv2.DRAW_MATCHES_FLAGS_DRAW_RICH_KEYPOINTS)\n",
    "\n",
    "number_of_blobs = len(keypoints)\n",
    "text = \"Total Number of Blobs: \" + str(len(keypoints))\n",
    "cv2.putText(blobs, text, (20, 550), cv2.FONT_HERSHEY_SIMPLEX, 1, (100, 0, 255), 2)\n",
    "\n",
    "# Display image with blob keypoints\n",
    "cv2.imshow(\"Blobs using default parameters\", blobs)\n",
    "cv2.waitKey(0)\n",
    "\n",
    "\n",
    "# Set our filtering parameters\n",
    "# Initialize parameter settiing using cv2.SimpleBlobDetector\n",
    "params = cv2.SimpleBlobDetector_Params()\n",
    "\n",
    "# Set Area filtering parameters\n",
    "params.filterByArea = True\n",
    "params.minArea = 100\n",
    "\n",
    "# Set Circularity filtering parameters\n",
    "params.filterByCircularity = True \n",
    "params.minCircularity = 0.9\n",
    "\n",
    "# Set Convexity filtering parameters\n",
    "params.filterByConvexity = False\n",
    "params.minConvexity = 0.2\n",
    "    \n",
    "# Set inertia filtering parameters\n",
    "params.filterByInertia = True\n",
    "params.minInertiaRatio = 0.01\n",
    "\n",
    "# Create a detector with the parameters\n",
    "detector = cv2.SimpleBlobDetector_create(params)\n",
    "    \n",
    "# Detect blobs\n",
    "keypoints = detector.detect(image)\n",
    "\n",
    "# Draw blobs on our image as red circles\n",
    "blank = np.zeros((1,1)) \n",
    "blobs = cv2.drawKeypoints(image, keypoints, blank, (0,255,0),\n",
    "                                      cv2.DRAW_MATCHES_FLAGS_DRAW_RICH_KEYPOINTS)\n",
    "\n",
    "number_of_blobs = len(keypoints)\n",
    "text = \"Number of Circular Blobs: \" + str(len(keypoints))\n",
    "cv2.putText(blobs, text, (20, 550), cv2.FONT_HERSHEY_SIMPLEX, 1, (0, 100, 255), 2)\n",
    "\n",
    "# Show blobs\n",
    "cv2.imshow(\"Filtering Circular Blobs Only\", blobs)\n",
    "cv2.waitKey(0)\n",
    "cv2.destroyAllWindows()"
   ]
  },
  {
   "cell_type": "markdown",
   "metadata": {},
   "source": [
    "**NOTE** OpenCV 3.XX, use this line of code for intializing our blob detector\n",
    "\n",
    "`detector = cv2.SimpleBlobDetector_create(params)`\n",
    "\n",
    "OpenCV 2.4.X users use this:\n",
    "\n",
    "`detector = cv2.SimpleBlobDetector()`"
   ]
  }
 ],
 "metadata": {
  "kernelspec": {
   "display_name": "Python 3",
   "language": "python",
   "name": "python3"
  },
  "language_info": {
   "codemirror_mode": {
    "name": "ipython",
    "version": 3
   },
   "file_extension": ".py",
   "mimetype": "text/x-python",
   "name": "python",
   "nbconvert_exporter": "python",
   "pygments_lexer": "ipython3",
   "version": "3.7.1"
  }
 },
 "nbformat": 4,
 "nbformat_minor": 1
}
